{
  "cells": [
    {
      "cell_type": "code",
      "execution_count": null,
      "metadata": {
        "id": "HGOKTOGpMdaL"
      },
      "outputs": [],
      "source": [
        "import torch\n",
        "import torchvision\n",
        "import torchvision.transforms as transforms\n",
        "import matplotlib.pyplot as plt\n",
        "import numpy as np\n",
        "import torch.nn as nn\n",
        "import torch.nn.functional as F\n",
        "import torch.optim as optim"
      ]
    },
    {
      "cell_type": "markdown",
      "metadata": {
        "id": "FVqDgPh8V3DR"
      },
      "source": [
        "*импорт необходимых инструментов и библиотек*"
      ]
    },
    {
      "cell_type": "code",
      "execution_count": null,
      "metadata": {
        "colab": {
          "base_uri": "https://localhost:8080/"
        },
        "id": "u7Gzj28QTeDR",
        "outputId": "c8d4bc69-d023-41ec-8612-8d0dc6f5eb7d"
      },
      "outputs": [
        {
          "name": "stdout",
          "output_type": "stream",
          "text": [
            "Downloading https://www.cs.toronto.edu/~kriz/cifar-10-python.tar.gz to ./data/cifar-10-python.tar.gz\n"
          ]
        },
        {
          "name": "stderr",
          "output_type": "stream",
          "text": [
            "100%|██████████| 170M/170M [00:06<00:00, 28.0MB/s]\n"
          ]
        },
        {
          "name": "stdout",
          "output_type": "stream",
          "text": [
            "Extracting ./data/cifar-10-python.tar.gz to ./data\n",
            "Files already downloaded and verified\n"
          ]
        }
      ],
      "source": [
        "def imshow(img):\n",
        "    img = img / 2 + 0.5  # unnormalize\n",
        "    npimg = img.numpy()\n",
        "    plt.imshow(np.transpose(npimg, (1, 2, 0)))\n",
        "    plt.show()\n",
        "\n",
        "transform = transforms.Compose([\n",
        "    transforms.ToTensor(),\n",
        "    transforms.Normalize((0.5, 0.5, 0.5), (0.5, 0.5, 0.5))\n",
        "])\n",
        "\n",
        "batch_size = 4\n",
        "\n",
        "trainset = torchvision.datasets.CIFAR10(root='./data', train=True,\n",
        "                                        download=True, transform=transform)\n",
        "trainloader = torch.utils.data.DataLoader(trainset, batch_size=batch_size,\n",
        "                                          shuffle=True, num_workers=2)\n",
        "\n",
        "testset = torchvision.datasets.CIFAR10(root='./data', train=False,\n",
        "                                       download=True, transform=transform)\n",
        "testloader = torch.utils.data.DataLoader(testset, batch_size=batch_size,\n",
        "                                         shuffle=False, num_workers=2)\n",
        "\n",
        "classes = ('plane', 'car', 'bird', 'cat',\n",
        "           'deer', 'dog', 'frog', 'horse', 'ship', 'truck')\n"
      ]
    },
    {
      "cell_type": "markdown",
      "metadata": {},
      "source": [
        "*```def imshow(img):``` - определяет функцию с названием ```imshow```, для отображения изображений, функция принимает одно изображение в формате тензеров от pytorch* \n",
        "\n",
        "*```img = img / 2 + 0.5``` - восстанавливаем формат пикселей в исходное состояние после нормализации*\n",
        "\n",
        "*```npimg = img.numpy()``` - переобразуем разнормализованное изображение в обьект numpy, для корректной работой с библиотекой ```matpolib```*\n",
        "\n",
        "*```plt.imshow(np.transpose(npimg, (1, 2, 0)))``` - меняет порядок измерений, что бы сделать данные совместимыми с ```imshow```, изменяют из условного (r,g,b) формата в (g,b, r)\n",
        "\n",
        "\n",
        "*```transform = transforms.Compose([``` - создается последовательность преобразований и изменений, которые подобно шаблону будут применяться под каждое изображения*\n",
        "\n",
        "*```transforms.ToTensor()``` - переобразует будь то pil изображение или numpy в тензор pytorch*\n",
        "\n",
        "*```transforms.Normalize((0.5, 0.5, 0.5), (0.5, 0.5, 0.5))``` - нормализует диапозон глубины цветов изображения на [-1, 1]*\n",
        "\n",
        "\n",
        "*```batch_size = 4``` - устанавливается размер батча, если быть точнее то, то сколько изображений будут обрабатывать параллельно, каждый батч это как группа из изображений, их там могут быть от 1 и больше*\n",
        "\n",
        "\n",
        "*Следом уже идут загрузчики необходимых датасетов для обучения и проведения тестов*\n",
        "\n",
        "*После них идут классы с уже определенными названиями*"
      ]
    },
    {
      "cell_type": "code",
      "execution_count": null,
      "metadata": {
        "colab": {
          "base_uri": "https://localhost:8080/",
          "height": 210
        },
        "id": "XtavnaKATloD",
        "outputId": "ef449df0-f74a-47f1-9d78-434e9da60beb"
      },
      "outputs": [
        {
          "data": {
            "image/png": "[encoded data removed]",
            "text/plain": [
              "<Figure size 640x480 with 1 Axes>"
            ]
          },
          "metadata": {},
          "output_type": "display_data"
        },
        {
          "name": "stdout",
          "output_type": "stream",
          "text": [
            "dog   cat   plane dog  \n"
          ]
        }
      ],
      "source": [
        "# Отображение случайных изображений из тренировочного набора\n",
        "dataiter = iter(trainloader)\n",
        "images, labels = next(dataiter)\n",
        "imshow(torchvision.utils.make_grid(images))\n",
        "print(' '.join(f'{classes[labels[j]]:5s}' for j in range(batch_size)))\n"
      ]
    },
    {
      "cell_type": "markdown",
      "metadata": {},
      "source": [
        "*```dataiter = iter(trainloader)``` - инициализируем переменную, в которому в последсвтии будем итерировать тренировочные данные, разделенные на батчи, итератор, позволит последовательно извлекать эти самые батчи*\n",
        "\n",
        "*```images, labels = next(dataiter)``` - инициализируем две переменные,  которые позволят хранить в них тензор картинки и тензор меток (классов) этих изображений*\n",
        "\n",
        "*```imshow(torchvision.utils.make_grid(images))``` - ```.make_grid```, собирает все батчи в по порядку в одну картинку, ```imshow()```, выполняет вывод этих самых картинок*\n",
        "\n",
        "*```print(' '.join(f'{classes[labels[j]]:5s}' for j in range(batch_size)))``` - извлекаются названия классов*"
      ]
    },
    {
      "cell_type": "code",
      "execution_count": null,
      "metadata": {
        "id": "BRPXNcHhTpQi"
      },
      "outputs": [],
      "source": [
        "class Net(nn.Module):\n",
        "    def __init__(self):\n",
        "        super().__init__()\n",
        "        self.conv1 = nn.Conv2d(3, 6, 5)\n",
        "        self.pool = nn.MaxPool2d(2, 2)\n",
        "        self.conv2 = nn.Conv2d(6, 16, 5)\n",
        "        self.fc1 = nn.Linear(16 * 5 * 5, 120)\n",
        "        self.fc2 = nn.Linear(120, 84)\n",
        "        self.fc3 = nn.Linear(84, 10)\n",
        "\n",
        "    def forward(self, x):\n",
        "        x = self.pool(F.relu(self.conv1(x)))\n",
        "        x = self.pool(F.relu(self.conv2(x)))\n",
        "        x = torch.flatten(x, 1)  # flatten all dimensions except batch\n",
        "        x = F.relu(self.fc1(x))\n",
        "        x = F.relu(self.fc2(x))\n",
        "        x = self.fc3(x)\n",
        "        return x\n",
        "\n",
        "net = Net()"
      ]
    },
    {
      "cell_type": "markdown",
      "metadata": {},
      "source": [
        "*```class Net(nn.Module):``` - в унициализированном классе ```Net```, мы вложили атрибут nn в виде ```nn.Module```, что позволяет нам строить архитектуру поведения нейронной модели и по своей сути, гибо настраивать все то насколько точна она будет или же отказаустойчива*\n",
        "\n",
        "*```super().__init__()``` - здесь, мы стягиваем как раз таки возможности родительского класса*\n",
        "\n",
        "*```conv1``` - является первым ```сверточным``` слоем, который имеет ```3``` канала на вход, что символизирует о том что это изображение формата ```RGB```, следующее, количество выходных данных которая обозначается у нас как ```6``` и размер ядра свертка, которая в нашем примере составялется 5, что символизирует о том что у нашего первого светка будет сканнер размерностью 5x5 пикселей.*\n",
        "\n",
        "*```MaxPool2d``` - определяет максимальное значения в отдельных областях, требуется для минимизирования ущерба от уменьшения размера изображения, для более быстрой и стабильной работы с моделью. У нее имеются два атрибута, такие как первое, размер окна ```2``` и stripe или же расстояние его шага которое тоже составляет ```2```*\n",
        "\n",
        "*```fc1``` - являются полносвязными слоями, перемножаем значения которые символизируют входные нейроны и задаем 120, в качестве количества выходных нейронов*\n",
        "\n",
        "*```fc2``` - во втором полносвязном слое, вводим входное количество нейронов что вышло из предыдущего и задаем выходное 84*\n",
        "\n",
        "*почему именно 120 и 84? тоже задавался этим вопросом, оказалось это просто напросто считается оптимальным решением, и в третьем ```fc3```, у нас выходное значение 10, что символизирует общее количество классов которые мы отслеживаем*\n",
        "\n",
        "*следом, идет функция ```forward```, которая определяет то как данные будут проходить через слои нейросетей, в прямом направлении, от одного до другого конца.*\n",
        "\n",
        "*в первых же строках, мы сразу призываем сначала первое сверточное настройку, после которой применил ```RELU```, для добавления нелинейности, оно помогает модели лучше обучаться свложным зависимостях*\n",
        "\n",
        "*```x = torch.flatten(x, 1)``` - переобразует многомерный тензор в одномерный вектор*\n",
        "\n",
        "\n"
      ]
    },
    {
      "cell_type": "code",
      "execution_count": null,
      "metadata": {
        "id": "WNImTdrDTqjE"
      },
      "outputs": [],
      "source": [
        "criterion = nn.CrossEntropyLoss()\n",
        "optimizer = optim.SGD(net.parameters(), lr=0.001, momentum=0.9)"
      ]
    },
    {
      "cell_type": "markdown",
      "metadata": {},
      "source": [
        "*```criterion``` - функция проинциализированная для определения мотерь, того насколько модель выдает разные ответы, на тренировочных и обучаемых данных*\n",
        "\n",
        "*```optimizer``` - требуется для оптимизации и минимизирование потерь*"
      ]
    },
    {
      "cell_type": "code",
      "execution_count": null,
      "metadata": {
        "colab": {
          "base_uri": "https://localhost:8080/"
        },
        "id": "9bXJYRCnTrro",
        "outputId": "be2bc936-c5eb-4197-875d-bc7a1f369e2e"
      },
      "outputs": [
        {
          "name": "stdout",
          "output_type": "stream",
          "text": [
            "[1,  2000] loss: 2.254\n",
            "[1,  4000] loss: 1.928\n",
            "[1,  6000] loss: 1.769\n",
            "[1,  8000] loss: 1.639\n",
            "[1, 10000] loss: 1.556\n",
            "[1, 12000] loss: 1.512\n",
            "[2,  2000] loss: 1.428\n",
            "[2,  4000] loss: 1.404\n",
            "[2,  6000] loss: 1.374\n",
            "[2,  8000] loss: 1.345\n",
            "[2, 10000] loss: 1.316\n",
            "[2, 12000] loss: 1.298\n",
            "Finished Training\n"
          ]
        }
      ],
      "source": [
        "for epoch in range(2):  # цикл по датасету несколько раз\n",
        "    running_loss = 0.0\n",
        "    for i, data in enumerate(trainloader, 0):\n",
        "        # получаем входные данные; data - это список из [входов, меток]\n",
        "        inputs, labels = data\n",
        "\n",
        "        # обнуляем градиенты параметров\n",
        "        optimizer.zero_grad()\n",
        "\n",
        "        # прямой + обратный проход + оптимизация\n",
        "        outputs = net(inputs)\n",
        "        loss = criterion(outputs, labels)\n",
        "        loss.backward()\n",
        "        optimizer.step()\n",
        "\n",
        "        # вывод статистики\n",
        "        running_loss += loss.item()\n",
        "        if i % 2000 == 1999:  # печать каждые 2000 мини-батчей\n",
        "            print(f'[{epoch + 1}, {i + 1:5d}] loss: {running_loss / 2000:.3f}')\n",
        "            running_loss = 0.0\n",
        "\n",
        "print('Finished Training')\n"
      ]
    },
    {
      "cell_type": "markdown",
      "metadata": {},
      "source": [
        "*```epoch``` - является одной итерцией, где алгоритм полностью подсчитывает по заданной нами архитектуре, в нашем случае, она провернула это два раза*\n",
        "\n",
        "*```running_loss = 0.0``` - счетчик, для накопления ошибок*\n",
        "\n",
        "*```for i, data in enumerate(trainloader, 0):```влоежнный цикл, который проходит по всем мини батчкам из `trainloader`*\n",
        "\n",
        "*разбиение `data`, на тензоры изображений и метки*\n",
        "\n",
        "*`optimizer.zero_grad()` - сбрасывает градиенты перед началом очередного шага оптимизации*\n",
        "\n",
        "*`print(f'[{epoch + 1}, {i + 1:5d}] loss: {running_loss / 2000:.3f}')` - каждые 2000 батчей выводит среднюю ошибку*"
      ]
    },
    {
      "cell_type": "code",
      "execution_count": null,
      "metadata": {
        "id": "Y3nTTM_qUg8v"
      },
      "outputs": [],
      "source": [
        "PATH = './cifar_net.pth'\n",
        "torch.save(net.state_dict(), PATH)"
      ]
    },
    {
      "cell_type": "markdown",
      "metadata": {},
      "source": [
        "*это определение названия и пути файла, куда будет сохранения нейронная модель*"
      ]
    },
    {
      "cell_type": "code",
      "execution_count": null,
      "metadata": {
        "colab": {
          "base_uri": "https://localhost:8080/"
        },
        "id": "7zlRTgSSUlaf",
        "outputId": "d6300a41-4bce-4677-fdc5-1d5d61bae2b9"
      },
      "outputs": [
        {
          "name": "stderr",
          "output_type": "stream",
          "text": [
            "<ipython-input-8-450da76ba5cd>:2: FutureWarning: You are using `torch.load` with `weights_only=False` (the current default value), which uses the default pickle module implicitly. It is possible to construct malicious pickle data which will execute arbitrary code during unpickling (See https://github.com/pytorch/pytorch/blob/main/SECURITY.md#untrusted-models for more details). In a future release, the default value for `weights_only` will be flipped to `True`. This limits the functions that could be executed during unpickling. Arbitrary objects will no longer be allowed to be loaded via this mode unless they are explicitly allowlisted by the user via `torch.serialization.add_safe_globals`. We recommend you start setting `weights_only=True` for any use case where you don't have full control of the loaded file. Please open an issue on GitHub for any issues related to this experimental feature.\n",
            "  net.load_state_dict(torch.load(PATH))\n"
          ]
        },
        {
          "name": "stdout",
          "output_type": "stream",
          "text": [
            "Accuracy of the network on the 10000 test images: 54 %\n"
          ]
        }
      ],
      "source": [
        "net = Net()\n",
        "net.load_state_dict(torch.load(PATH))\n",
        "\n",
        "correct = 0\n",
        "total = 0\n",
        "with torch.no_grad():\n",
        "    for data in testloader:\n",
        "        images, labels = data\n",
        "        outputs = net(images)\n",
        "        _, predicted = torch.max(outputs.data, 1)\n",
        "        total += labels.size(0)\n",
        "        correct += (predicted == labels).sum().item()\n",
        "\n",
        "print(f'Accuracy of the network on the 10000 test images: {100 * correct // total} %')\n"
      ]
    },
    {
      "cell_type": "markdown",
      "metadata": {},
      "source": [
        "*определенеи точности*\n",
        "\n",
        "*`net = Net()` - сначала, создаем `экземпляр архитектуры` нейронной сети*\n",
        "\n",
        "*`net.load_state_dict(torch.load(PATH))` - загружаем сохраненные веса и смещения из файла `PATH`*\n",
        "\n",
        "*переменные correct и total, занимаются тем же что и в названиях, correct, работчет с подсчетом количества правильных предсказаний модели, следом `total`, переменная для подсчета общего количества изображений, которые проходят через модель во время тестирования*\n",
        "\n",
        "*`with torch.no_grad():` - откалючается автоматическое вычисление градиентов*\n",
        "```\n",
        "    for data in testloader:\n",
        "        images, labels = data\n",
        "``` \n",
        "*итерация по всем ьачам тестового набора данных, data содержит два элемента*\n",
        "\n",
        "\n",
        "*`correct += (predicted == labels).sum().item()` - проверка того, совпдаают ли классы, а дак же подсчитывает это самое количество совпдаений*\n"
      ]
    },
    {
      "cell_type": "code",
      "execution_count": null,
      "metadata": {
        "colab": {
          "base_uri": "https://localhost:8080/"
        },
        "id": "AaYiq3lMUtAO",
        "outputId": "fd8e0540-0d63-4508-a2e2-b5c83f04eef9"
      },
      "outputs": [
        {
          "name": "stdout",
          "output_type": "stream",
          "text": [
            "Accuracy for class: plane is 49.7 %\n",
            "Accuracy for class: car   is 74.6 %\n",
            "Accuracy for class: bird  is 30.7 %\n",
            "Accuracy for class: cat   is 20.1 %\n",
            "Accuracy for class: deer  is 56.1 %\n",
            "Accuracy for class: dog   is 60.5 %\n",
            "Accuracy for class: frog  is 60.6 %\n",
            "Accuracy for class: horse is 65.4 %\n",
            "Accuracy for class: ship  is 79.1 %\n",
            "Accuracy for class: truck is 50.5 %\n"
          ]
        }
      ],
      "source": [
        "correct_pred = {classname: 0 for classname in classes}\n",
        "total_pred = {classname: 0 for classname in classes}\n",
        "\n",
        "with torch.no_grad():\n",
        "    for data in testloader:\n",
        "        images, labels = data\n",
        "        outputs = net(images)\n",
        "        _, predictions = torch.max(outputs, 1)\n",
        "        for label, prediction in zip(labels, predictions):\n",
        "            if label == prediction:\n",
        "                correct_pred[classes[label]] += 1\n",
        "            total_pred[classes[label]] += 1\n",
        "\n",
        "for classname, correct_count in correct_pred.items():\n",
        "    accuracy = 100 * float(correct_count) / total_pred[classname]\n",
        "    print(f'Accuracy for class: {classname:5s} is {accuracy:.1f} %')\n"
      ]
    }
  ],
  "metadata": {
    "colab": {
      "provenance": []
    },
    "kernelspec": {
      "display_name": "Python 3",
      "name": "python3"
    },
    "language_info": {
      "name": "python"
    }
  },
  "nbformat": 4,
  "nbformat_minor": 0
}
